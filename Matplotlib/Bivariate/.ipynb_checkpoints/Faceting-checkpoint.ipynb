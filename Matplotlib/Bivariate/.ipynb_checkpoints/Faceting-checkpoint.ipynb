{
 "cells": [
  {
   "cell_type": "code",
   "execution_count": 1,
   "metadata": {},
   "outputs": [],
   "source": [
    "import numpy as np\n",
    "import pandas as pd\n",
    "import matplotlib.pyplot as plt \n",
    "import seaborn as sb\n",
    "\n",
    "%matplotlib inline"
   ]
  },
  {
   "cell_type": "code",
   "execution_count": 14,
   "metadata": {},
   "outputs": [
    {
     "name": "stdout",
     "output_type": "stream",
     "text": [
      "(3929, 20)\n"
     ]
    },
    {
     "data": {
      "text/plain": [
       "count    3929.000000\n",
       "mean       24.791339\n",
       "std         6.003246\n",
       "min        12.821700\n",
       "25%        20.658100\n",
       "50%        24.000000\n",
       "75%        28.227100\n",
       "max        57.782400\n",
       "Name: comb, dtype: float64"
      ]
     },
     "execution_count": 14,
     "metadata": {},
     "output_type": "execute_result"
    }
   ],
   "source": [
    "fuel_econ = pd.read_csv('./fuel_econ.csv')\n",
    "print(fuel_econ.shape)\n",
    "fuel_econ.head()\n",
    "fuel_econ['comb'].describe()"
   ]
  },
  {
   "cell_type": "markdown",
   "metadata": {},
   "source": [
    "Faceting\n",
    "One general visualization technique that will be useful for you to know about to handle plots of two or more variables is faceting. In faceting, the data is divided into disjoint subsets, most often by different levels of a categorical variable. For each of these subsets of the data, the same plot type is rendered on other variables. Faceting is a way of comparing distributions or relationships across levels of additional variables, especially when there are three or more variables of interest overall. While faceting is most useful in multivariate visualization, it is still valuable to introduce the technique here in our discussion of bivariate plots.\n",
    "\n",
    "For example, rather than depicting the relationship between one numeric variable and one categorical variable using a violin plot or box plot, we could use faceting to look at a histogram of the numeric variable for subsets of the data divided by categorical variable levels. Seaborn's FacetGrid class facilitates the creation of faceted plots. There are two steps involved in creating a faceted plot. First, we need to create an instance of the FacetGrid object and specify the feature we want to facet by (\"cat_var\" in our example). Then we use the map method on the FacetGrid object to specify the plot type and variable(s) that will be plotted in each subset (in this case, histogram on \"num_var\")."
   ]
  },
  {
   "cell_type": "code",
   "execution_count": 12,
   "metadata": {
    "scrolled": true
   },
   "outputs": [
    {
     "data": {
      "text/plain": [
       "<seaborn.axisgrid.FacetGrid at 0x1a23d178d0>"
      ]
     },
     "execution_count": 12,
     "metadata": {},
     "output_type": "execute_result"
    },
    {
     "data": {
      "image/png": "[encoded data removed]",
      "text/plain": [
       "<Figure size 648x432 with 5 Axes>"
      ]
     },
     "metadata": {
      "needs_background": "light"
     },
     "output_type": "display_data"
    }
   ],
   "source": [
    "g = sb.FacetGrid(data = fuel_econ, col = 'VClass', col_wrap = 3, sharey = False)\n",
    "#col parameter means that whatever plot we facet with there will be one of VClass plot for each level of vehicle class\n",
    "#The sharey = false parameter gives each of the facet its won y-axis limits.\n",
    "bins = np.arange(12, 58+2, 2)\n",
    "\n",
    "g.map(plt.hist, 'comb', bins = bins) #First arg is plotting function and second is x-axis variable\n",
    "#Note: we dont set the second argument to x = '' or the faceting subgroups wont work correctly\n",
    "#FacetGrid is an object and map is a function of that object"
   ]
  },
  {
   "cell_type": "markdown",
   "metadata": {},
   "source": [
    "In the map call, just set the plotting function and variable to be plotted as positional arguments. Don't set them as keyword arguments, like x = \"num_var\", or the mapping won't work properly."
   ]
  },
  {
   "cell_type": "markdown",
   "metadata": {},
   "source": [
    "Notice that each subset of the data is being plotted independently. Each uses the default of ten bins from hist to bin together the data, and each plot has a different bin size. Despite that, the axis limits on each facet are the same to allow clear and direct comparisons between groups. It's still worth cleaning things a little bit more by setting the same bin edges on all facets. Extra visualization parameters can be set as additional keyword arguments to the map function."
   ]
  },
  {
   "cell_type": "markdown",
   "metadata": {},
   "source": [
    "#Additional Variation\n",
    "#If you have many categorical levels to plot, then you might want to add more arguments to the FacetGrid object \n",
    "#initialization to facilitate clarity in conveyance of information. The example below includes a categorical variable, #\"many_cat_var\", that has fifteen different levels. Setting col_wrap = 5 means that the plots will be organized into #rows of five facets each, rather than a single long row of fifteen plots.\n",
    "\n",
    "\n",
    "#Other operations may be performed to increase the immediate readability of the plots: setting each facet height to 2 inches (\"size\"), sorting the facets by group mean (\"col_order\"), limiting the number of bin edges, and changing the titles of each facet to just the categorical level name using the set_titles method and {col_name} template variable."
   ]
  },
  {
   "cell_type": "code",
   "execution_count": null,
   "metadata": {},
   "outputs": [],
   "source": [
    "group_means = df.groupby(['many_cat_var']).mean()\n",
    "group_order = group_means.sort_values(['num_var'], ascending = False).index\n",
    "\n",
    "g = sb.FacetGrid(data = df, col = 'many_cat_var', col_wrap = 5, size = 2,\n",
    "                 col_order = group_order)\n",
    "g.map(plt.hist, 'num_var', bins = np.arange(5, 15+1, 1))\n",
    "g.set_titles('{col_name}')"
   ]
  }
 ],
 "metadata": {
  "kernelspec": {
   "display_name": "Python 3",
   "language": "python",
   "name": "python3"
  },
  "language_info": {
   "codemirror_mode": {
    "name": "ipython",
    "version": 3
   },
   "file_extension": ".py",
   "mimetype": "text/x-python",
   "name": "python",
   "nbconvert_exporter": "python",
   "pygments_lexer": "ipython3",
   "version": "3.7.6"
  }
 },
 "nbformat": 4,
 "nbformat_minor": 4
}
