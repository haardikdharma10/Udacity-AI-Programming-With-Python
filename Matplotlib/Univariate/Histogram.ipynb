{
 "cells": [
  {
   "cell_type": "code",
   "execution_count": 1,
   "metadata": {},
   "outputs": [],
   "source": [
    "import numpy as np\n",
    "import pandas as pd\n",
    "import matplotlib.pyplot as plt\n",
    "import seaborn as sb\n",
    "\n",
    "%matplotlib inline"
   ]
  },
  {
   "cell_type": "code",
   "execution_count": 23,
   "metadata": {
    "scrolled": true
   },
   "outputs": [
    {
     "name": "stdout",
     "output_type": "stream",
     "text": [
      "(807, 14)\n"
     ]
    },
    {
     "data": {
      "text/html": [
       "<div>\n",
       "<style scoped>\n",
       "    .dataframe tbody tr th:only-of-type {\n",
       "        vertical-align: middle;\n",
       "    }\n",
       "\n",
       "    .dataframe tbody tr th {\n",
       "        vertical-align: top;\n",
       "    }\n",
       "\n",
       "    .dataframe thead th {\n",
       "        text-align: right;\n",
       "    }\n",
       "</style>\n",
       "<table border=\"1\" class=\"dataframe\">\n",
       "  <thead>\n",
       "    <tr style=\"text-align: right;\">\n",
       "      <th></th>\n",
       "      <th>id</th>\n",
       "      <th>species</th>\n",
       "      <th>generation_id</th>\n",
       "      <th>height</th>\n",
       "      <th>weight</th>\n",
       "      <th>base_experience</th>\n",
       "      <th>type_1</th>\n",
       "      <th>type_2</th>\n",
       "      <th>hp</th>\n",
       "      <th>attack</th>\n",
       "      <th>defense</th>\n",
       "      <th>speed</th>\n",
       "      <th>special-attack</th>\n",
       "      <th>special-defense</th>\n",
       "    </tr>\n",
       "  </thead>\n",
       "  <tbody>\n",
       "    <tr>\n",
       "      <th>0</th>\n",
       "      <td>1</td>\n",
       "      <td>bulbasaur</td>\n",
       "      <td>1</td>\n",
       "      <td>0.7</td>\n",
       "      <td>6.9</td>\n",
       "      <td>64</td>\n",
       "      <td>grass</td>\n",
       "      <td>poison</td>\n",
       "      <td>45</td>\n",
       "      <td>49</td>\n",
       "      <td>49</td>\n",
       "      <td>45</td>\n",
       "      <td>65</td>\n",
       "      <td>65</td>\n",
       "    </tr>\n",
       "    <tr>\n",
       "      <th>1</th>\n",
       "      <td>2</td>\n",
       "      <td>ivysaur</td>\n",
       "      <td>1</td>\n",
       "      <td>1.0</td>\n",
       "      <td>13.0</td>\n",
       "      <td>142</td>\n",
       "      <td>grass</td>\n",
       "      <td>poison</td>\n",
       "      <td>60</td>\n",
       "      <td>62</td>\n",
       "      <td>63</td>\n",
       "      <td>60</td>\n",
       "      <td>80</td>\n",
       "      <td>80</td>\n",
       "    </tr>\n",
       "    <tr>\n",
       "      <th>2</th>\n",
       "      <td>3</td>\n",
       "      <td>venusaur</td>\n",
       "      <td>1</td>\n",
       "      <td>2.0</td>\n",
       "      <td>100.0</td>\n",
       "      <td>236</td>\n",
       "      <td>grass</td>\n",
       "      <td>poison</td>\n",
       "      <td>80</td>\n",
       "      <td>82</td>\n",
       "      <td>83</td>\n",
       "      <td>80</td>\n",
       "      <td>100</td>\n",
       "      <td>100</td>\n",
       "    </tr>\n",
       "    <tr>\n",
       "      <th>3</th>\n",
       "      <td>4</td>\n",
       "      <td>charmander</td>\n",
       "      <td>1</td>\n",
       "      <td>0.6</td>\n",
       "      <td>8.5</td>\n",
       "      <td>62</td>\n",
       "      <td>fire</td>\n",
       "      <td>NaN</td>\n",
       "      <td>39</td>\n",
       "      <td>52</td>\n",
       "      <td>43</td>\n",
       "      <td>65</td>\n",
       "      <td>60</td>\n",
       "      <td>50</td>\n",
       "    </tr>\n",
       "    <tr>\n",
       "      <th>4</th>\n",
       "      <td>5</td>\n",
       "      <td>charmeleon</td>\n",
       "      <td>1</td>\n",
       "      <td>1.1</td>\n",
       "      <td>19.0</td>\n",
       "      <td>142</td>\n",
       "      <td>fire</td>\n",
       "      <td>NaN</td>\n",
       "      <td>58</td>\n",
       "      <td>64</td>\n",
       "      <td>58</td>\n",
       "      <td>80</td>\n",
       "      <td>80</td>\n",
       "      <td>65</td>\n",
       "    </tr>\n",
       "    <tr>\n",
       "      <th>5</th>\n",
       "      <td>6</td>\n",
       "      <td>charizard</td>\n",
       "      <td>1</td>\n",
       "      <td>1.7</td>\n",
       "      <td>90.5</td>\n",
       "      <td>240</td>\n",
       "      <td>fire</td>\n",
       "      <td>flying</td>\n",
       "      <td>78</td>\n",
       "      <td>84</td>\n",
       "      <td>78</td>\n",
       "      <td>100</td>\n",
       "      <td>109</td>\n",
       "      <td>85</td>\n",
       "    </tr>\n",
       "    <tr>\n",
       "      <th>6</th>\n",
       "      <td>7</td>\n",
       "      <td>squirtle</td>\n",
       "      <td>1</td>\n",
       "      <td>0.5</td>\n",
       "      <td>9.0</td>\n",
       "      <td>63</td>\n",
       "      <td>water</td>\n",
       "      <td>NaN</td>\n",
       "      <td>44</td>\n",
       "      <td>48</td>\n",
       "      <td>65</td>\n",
       "      <td>43</td>\n",
       "      <td>50</td>\n",
       "      <td>64</td>\n",
       "    </tr>\n",
       "    <tr>\n",
       "      <th>7</th>\n",
       "      <td>8</td>\n",
       "      <td>wartortle</td>\n",
       "      <td>1</td>\n",
       "      <td>1.0</td>\n",
       "      <td>22.5</td>\n",
       "      <td>142</td>\n",
       "      <td>water</td>\n",
       "      <td>NaN</td>\n",
       "      <td>59</td>\n",
       "      <td>63</td>\n",
       "      <td>80</td>\n",
       "      <td>58</td>\n",
       "      <td>65</td>\n",
       "      <td>80</td>\n",
       "    </tr>\n",
       "    <tr>\n",
       "      <th>8</th>\n",
       "      <td>9</td>\n",
       "      <td>blastoise</td>\n",
       "      <td>1</td>\n",
       "      <td>1.6</td>\n",
       "      <td>85.5</td>\n",
       "      <td>239</td>\n",
       "      <td>water</td>\n",
       "      <td>NaN</td>\n",
       "      <td>79</td>\n",
       "      <td>83</td>\n",
       "      <td>100</td>\n",
       "      <td>78</td>\n",
       "      <td>85</td>\n",
       "      <td>105</td>\n",
       "    </tr>\n",
       "    <tr>\n",
       "      <th>9</th>\n",
       "      <td>10</td>\n",
       "      <td>caterpie</td>\n",
       "      <td>1</td>\n",
       "      <td>0.3</td>\n",
       "      <td>2.9</td>\n",
       "      <td>39</td>\n",
       "      <td>bug</td>\n",
       "      <td>NaN</td>\n",
       "      <td>45</td>\n",
       "      <td>30</td>\n",
       "      <td>35</td>\n",
       "      <td>45</td>\n",
       "      <td>20</td>\n",
       "      <td>20</td>\n",
       "    </tr>\n",
       "  </tbody>\n",
       "</table>\n",
       "</div>"
      ],
      "text/plain": [
       "   id     species  generation_id  height  weight  base_experience type_1  \\\n",
       "0   1   bulbasaur              1     0.7     6.9               64  grass   \n",
       "1   2     ivysaur              1     1.0    13.0              142  grass   \n",
       "2   3    venusaur              1     2.0   100.0              236  grass   \n",
       "3   4  charmander              1     0.6     8.5               62   fire   \n",
       "4   5  charmeleon              1     1.1    19.0              142   fire   \n",
       "5   6   charizard              1     1.7    90.5              240   fire   \n",
       "6   7    squirtle              1     0.5     9.0               63  water   \n",
       "7   8   wartortle              1     1.0    22.5              142  water   \n",
       "8   9   blastoise              1     1.6    85.5              239  water   \n",
       "9  10    caterpie              1     0.3     2.9               39    bug   \n",
       "\n",
       "   type_2  hp  attack  defense  speed  special-attack  special-defense  \n",
       "0  poison  45      49       49     45              65               65  \n",
       "1  poison  60      62       63     60              80               80  \n",
       "2  poison  80      82       83     80             100              100  \n",
       "3     NaN  39      52       43     65              60               50  \n",
       "4     NaN  58      64       58     80              80               65  \n",
       "5  flying  78      84       78    100             109               85  \n",
       "6     NaN  44      48       65     43              50               64  \n",
       "7     NaN  59      63       80     58              65               80  \n",
       "8     NaN  79      83      100     78              85              105  \n",
       "9     NaN  45      30       35     45              20               20  "
      ]
     },
     "execution_count": 23,
     "metadata": {},
     "output_type": "execute_result"
    }
   ],
   "source": [
    "pokemon = pd.read_csv('./pokemon.csv')\n",
    "print(pokemon.shape) ##No of rows and columns\n",
    "pokemon.head(10)"
   ]
  },
  {
   "cell_type": "markdown",
   "metadata": {},
   "source": [
    "A histogram is used to plot the distribution of a numeric variable. It's the quantitative version of the bar chart. However, rather than plot one bar for each unique numeric value, values are grouped into continuous bins, and one bar for each bin is plotted depicting the number. For instance, using the default settings for matplotlib's hist function:"
   ]
  },
  {
   "cell_type": "code",
   "execution_count": 24,
   "metadata": {},
   "outputs": [
    {
     "data": {
      "text/plain": [
       "(array([ 31.,  93., 163., 159., 128., 115.,  81.,  26.,   6.,   5.]),\n",
       " array([  5. ,  20.5,  36. ,  51.5,  67. ,  82.5,  98. , 113.5, 129. ,\n",
       "        144.5, 160. ]),\n",
       " <a list of 10 Patch objects>)"
      ]
     },
     "execution_count": 24,
     "metadata": {},
     "output_type": "execute_result"
    },
    {
     "data": {
      "image/png": "[encoded data removed]",
      "text/plain": [
       "<Figure size 432x288 with 1 Axes>"
      ]
     },
     "metadata": {
      "needs_background": "light"
     },
     "output_type": "display_data"
    }
   ],
   "source": [
    "plt.hist(data = pokemon, x = 'speed')"
   ]
  },
  {
   "cell_type": "markdown",
   "metadata": {},
   "source": [
    "The direct adjacency of the bars in the histogram, in contrast to the separated bars in a bar chart, emphasize the fact that the data takes on a continuous range of values. When a data value is on a bin edge, it is counted in the bin to its right. The exception is the rightmost bin edge, which places data values equal to the uppermost limit into the right-most bin (to the upper limit's left)."
   ]
  },
  {
   "cell_type": "markdown",
   "metadata": {},
   "source": [
    "You can use descriptive statistics (e.g. via df['num_var'].describe()) to gauge what minimum and maximum bin limits might be appropriate for the plot. These bin edges can be set using numpy's arange function:"
   ]
  },
  {
   "cell_type": "code",
   "execution_count": 29,
   "metadata": {
    "scrolled": false
   },
   "outputs": [
    {
     "data": {
      "text/plain": [
       "count    807.000000\n",
       "mean      65.830235\n",
       "std       27.736838\n",
       "min        5.000000\n",
       "25%       45.000000\n",
       "50%       65.000000\n",
       "75%       85.000000\n",
       "max      160.000000\n",
       "Name: speed, dtype: float64"
      ]
     },
     "execution_count": 29,
     "metadata": {},
     "output_type": "execute_result"
    }
   ],
   "source": [
    "pokemon['speed'].describe()"
   ]
  },
  {
   "cell_type": "code",
   "execution_count": 22,
   "metadata": {
    "scrolled": true
   },
   "outputs": [
    {
     "data": {
      "text/plain": [
       "(array([  3.,  15.,  37.,  81., 103., 101., 117.,  80.,  77.,  81.,  58.,\n",
       "         30.,  13.,   5.,   2.,   4.]),\n",
       " array([  0,  10,  20,  30,  40,  50,  60,  70,  80,  90, 100, 110, 120,\n",
       "        130, 140, 150, 160]),\n",
       " <a list of 16 Patch objects>)"
      ]
     },
     "execution_count": 22,
     "metadata": {},
     "output_type": "execute_result"
    },
    {
     "data": {
      "image/png": "[encoded data removed]",
      "text/plain": [
       "<Figure size 432x288 with 1 Axes>"
      ]
     },
     "metadata": {
      "needs_background": "light"
     },
     "output_type": "display_data"
    }
   ],
   "source": [
    "bin_edges = np.arange(0, pokemon['speed'].max()+10, 10)\n",
    "plt.hist(data = pokemon, x = 'speed', bins = bin_edges)"
   ]
  },
  {
   "cell_type": "markdown",
   "metadata": {},
   "source": [
    "The first argument to arange is the leftmost bin edge, the second argument the upper limit, and the third argument the bin width. Note that even though I've specified the \"max\" value in the second argument, I've added a \"+10\" (the bin width). That is because arange will only return values that are strictly less than the upper limit. Adding in \"+1\" is a safety measure to ensure that the rightmost bin edge is at least the maximum data value, so that all of the data points are plotted. The leftmost bin is set as a hardcoded value to get a nice, interpretable value, though you could use functions like numpy's around if you wanted to approach that end programmatically."
   ]
  },
  {
   "cell_type": "markdown",
   "metadata": {},
   "source": [
    "When creating histograms, it's useful to play around with different bin widths to see what represents the data best. Too many bins, and you may see too much noise that interferes with identification of the underlying signal. Too few bins, and you may not be able to see the true signal in the first place."
   ]
  },
  {
   "cell_type": "code",
   "execution_count": 30,
   "metadata": {},
   "outputs": [
    {
     "data": {
      "text/plain": [
       "(array([ 0.,  0.,  0.,  0.,  0.,  0.,  0.,  0.,  0.,  0.,  0.,  0.,  0.,\n",
       "         0.,  0.,  0.,  0.,  0.,  0.,  0.,  3.,  0.,  0.,  0.,  0.,  0.,\n",
       "         0.,  0.,  0.,  0.,  0.,  0.,  0.,  0.,  0.,  0.,  0.,  0.,  0.,\n",
       "         0.,  3.,  0.,  0.,  0.,  0.,  0.,  0.,  0.,  0.,  0.,  0.,  0.,\n",
       "         1.,  0.,  0.,  0.,  0.,  0.,  0.,  0., 11.,  0.,  0.,  0.,  0.,\n",
       "         0.,  0.,  0.,  0.,  0.,  0.,  0.,  0.,  0.,  0.,  0.,  0.,  0.,\n",
       "         0.,  0., 13.,  0.,  0.,  0.,  0.,  0.,  0.,  0.,  1.,  0.,  0.,\n",
       "         0.,  4.,  0.,  0.,  0.,  1.,  0.,  0.,  0., 10.,  0.,  0.,  0.,\n",
       "         0.,  0.,  0.,  0.,  1.,  0.,  0.,  0.,  4.,  0.,  0.,  0.,  3.,\n",
       "         0.,  0.,  0., 33.,  0.,  0.,  0.,  2.,  0.,  0.,  0.,  5.,  0.,\n",
       "         0.,  0.,  2.,  0.,  0.,  0.,  1.,  0.,  0.,  0., 26.,  0.,  0.,\n",
       "         0.,  6.,  0.,  0.,  0.,  2.,  0.,  0.,  0.,  3.,  0.,  0.,  0.,\n",
       "         1.,  0.,  0.,  0., 36.,  0.,  0.,  0.,  2.,  0.,  0.,  0.,  8.,\n",
       "         0.,  0.,  0.,  8.,  0.,  0.,  0.,  3.,  0.,  0.,  0., 34.,  0.,\n",
       "         0.,  0.,  3.,  0.,  0.,  0.,  2.,  0.,  0.,  0.,  6.,  0.,  0.,\n",
       "         0.,  1.,  0.,  0.,  0., 45.,  0.,  0.,  0.,  3.,  0.,  0.,  0.,\n",
       "         5.,  0.,  0.,  0.,  0.,  0.,  0.,  0.,  0.,  0.,  0.,  0., 29.,\n",
       "         0.,  0.,  0.,  4.,  0.,  0.,  0.,  4.,  0.,  0.,  0.,  8.,  0.,\n",
       "         0.,  0.,  3.,  0.,  0.,  0., 49.,  0.,  0.,  0.,  3.,  0.,  0.,\n",
       "         0.,  2.,  0.,  0.,  0.,  3.,  0.,  0.,  0.,  5.,  0.,  0.,  0.,\n",
       "        40.,  0.,  0.,  0.,  4.,  0.,  0.,  0.,  4.,  0.,  0.,  0.,  6.,\n",
       "         0.,  0.,  0.,  1.,  0.,  0.,  0., 37.,  0.,  0.,  0.,  5.,  0.,\n",
       "         0.,  0.,  5.,  0.,  0.,  0.,  3.,  0.,  0.,  0.,  3.,  0.,  0.,\n",
       "         0., 15.,  0.,  0.,  0.,  3.,  0.,  0.,  0.,  3.,  0.,  0.,  0.,\n",
       "         3.,  0.,  0.,  0.,  3.,  0.,  0.,  0., 33.,  0.,  0.,  0.,  3.,\n",
       "         0.,  0.,  0.,  1.,  0.,  0.,  0.,  4.,  0.,  0.,  0.,  4.,  0.,\n",
       "         0.,  0., 29.,  0.,  0.,  0.,  0.,  0.,  0.,  0.,  1.,  0.,  0.,\n",
       "         0.,  1.,  0.,  0.,  0.,  1.,  0.,  0.,  0., 29.,  0.,  0.,  0.,\n",
       "         4.,  0.,  0.,  0.,  3.,  0.,  0.,  0.,  3.,  0.,  0.,  0.,  0.,\n",
       "         0.,  0.,  0., 27.,  0.,  0.,  0.,  2.,  0.,  0.,  0.,  7.,  0.,\n",
       "         0.,  0.,  3.,  0.,  0.,  0.,  3.,  0.,  0.,  0., 24.,  0.,  0.,\n",
       "         0.,  6.,  0.,  0.,  0.,  2.,  0.,  0.,  0.,  2.,  0.,  0.,  0.,\n",
       "         2.,  0.,  0.,  0., 10.,  0.,  0.,  0.,  2.,  0.,  0.,  0.,  1.,\n",
       "         0.,  0.,  0.,  6.,  0.,  0.,  0.,  3.,  0.,  0.,  0., 11.,  0.,\n",
       "         0.,  0.,  2.,  0.,  0.,  0.,  3.,  0.,  0.,  0.,  1.,  0.,  0.,\n",
       "         0.,  1.,  0.,  0.,  0.,  8.,  0.,  0.,  0.,  2.,  0.,  0.,  0.,\n",
       "         1.,  0.,  0.,  0.,  1.,  0.,  0.,  0.,  0.,  0.,  0.,  0.,  4.,\n",
       "         0.,  0.,  0.,  1.,  0.,  0.,  0.,  1.,  0.,  0.,  0.,  1.,  0.,\n",
       "         0.,  0.,  1.,  0.,  0.,  0.,  4.,  0.,  0.,  0.,  1.,  0.,  0.,\n",
       "         0.,  0.,  0.,  0.,  0.,  0.,  0.,  0.,  0.,  0.,  0.,  0.,  0.,\n",
       "         5.,  0.,  0.,  0.,  0.,  0.,  0.,  0.,  0.,  0.,  0.,  0.,  0.,\n",
       "         0.,  0.,  0.,  0.,  0.,  0.,  0.,  0.,  0.,  0.,  0.,  0.,  0.,\n",
       "         0.,  0.,  0.,  0.,  0.,  0.,  0.,  0.,  0.,  0.,  0.,  0.,  0.,\n",
       "         0.,  0.,  0.,  0.,  0.,  0.,  0.,  0.,  0.,  0.,  0.,  0.,  0.,\n",
       "         1.,  0.,  0.,  0.,  0.,  0.,  0.,  0.,  1.,  0.,  0.,  0.,  0.,\n",
       "         0.,  0.,  0.,  0.,  0.,  0.,  0.,  0.,  0.,  0.,  0.,  0.,  0.,\n",
       "         0.,  0.,  2.,  0.,  0.,  0.,  1.,  0.,  0.,  0.,  0.,  0.,  0.,\n",
       "         0.,  0.,  0.,  0.,  0.,  0.,  0.,  0.,  0.,  0.,  0.,  0.,  0.,\n",
       "         0.,  0.,  0.,  0.,  0.,  0.,  0.,  0.,  0.,  0.,  0.,  0.,  0.,\n",
       "         0.,  0.,  1.]),\n",
       " array([  0.  ,   0.25,   0.5 ,   0.75,   1.  ,   1.25,   1.5 ,   1.75,\n",
       "          2.  ,   2.25,   2.5 ,   2.75,   3.  ,   3.25,   3.5 ,   3.75,\n",
       "          4.  ,   4.25,   4.5 ,   4.75,   5.  ,   5.25,   5.5 ,   5.75,\n",
       "          6.  ,   6.25,   6.5 ,   6.75,   7.  ,   7.25,   7.5 ,   7.75,\n",
       "          8.  ,   8.25,   8.5 ,   8.75,   9.  ,   9.25,   9.5 ,   9.75,\n",
       "         10.  ,  10.25,  10.5 ,  10.75,  11.  ,  11.25,  11.5 ,  11.75,\n",
       "         12.  ,  12.25,  12.5 ,  12.75,  13.  ,  13.25,  13.5 ,  13.75,\n",
       "         14.  ,  14.25,  14.5 ,  14.75,  15.  ,  15.25,  15.5 ,  15.75,\n",
       "         16.  ,  16.25,  16.5 ,  16.75,  17.  ,  17.25,  17.5 ,  17.75,\n",
       "         18.  ,  18.25,  18.5 ,  18.75,  19.  ,  19.25,  19.5 ,  19.75,\n",
       "         20.  ,  20.25,  20.5 ,  20.75,  21.  ,  21.25,  21.5 ,  21.75,\n",
       "         22.  ,  22.25,  22.5 ,  22.75,  23.  ,  23.25,  23.5 ,  23.75,\n",
       "         24.  ,  24.25,  24.5 ,  24.75,  25.  ,  25.25,  25.5 ,  25.75,\n",
       "         26.  ,  26.25,  26.5 ,  26.75,  27.  ,  27.25,  27.5 ,  27.75,\n",
       "         28.  ,  28.25,  28.5 ,  28.75,  29.  ,  29.25,  29.5 ,  29.75,\n",
       "         30.  ,  30.25,  30.5 ,  30.75,  31.  ,  31.25,  31.5 ,  31.75,\n",
       "         32.  ,  32.25,  32.5 ,  32.75,  33.  ,  33.25,  33.5 ,  33.75,\n",
       "         34.  ,  34.25,  34.5 ,  34.75,  35.  ,  35.25,  35.5 ,  35.75,\n",
       "         36.  ,  36.25,  36.5 ,  36.75,  37.  ,  37.25,  37.5 ,  37.75,\n",
       "         38.  ,  38.25,  38.5 ,  38.75,  39.  ,  39.25,  39.5 ,  39.75,\n",
       "         40.  ,  40.25,  40.5 ,  40.75,  41.  ,  41.25,  41.5 ,  41.75,\n",
       "         42.  ,  42.25,  42.5 ,  42.75,  43.  ,  43.25,  43.5 ,  43.75,\n",
       "         44.  ,  44.25,  44.5 ,  44.75,  45.  ,  45.25,  45.5 ,  45.75,\n",
       "         46.  ,  46.25,  46.5 ,  46.75,  47.  ,  47.25,  47.5 ,  47.75,\n",
       "         48.  ,  48.25,  48.5 ,  48.75,  49.  ,  49.25,  49.5 ,  49.75,\n",
       "         50.  ,  50.25,  50.5 ,  50.75,  51.  ,  51.25,  51.5 ,  51.75,\n",
       "         52.  ,  52.25,  52.5 ,  52.75,  53.  ,  53.25,  53.5 ,  53.75,\n",
       "         54.  ,  54.25,  54.5 ,  54.75,  55.  ,  55.25,  55.5 ,  55.75,\n",
       "         56.  ,  56.25,  56.5 ,  56.75,  57.  ,  57.25,  57.5 ,  57.75,\n",
       "         58.  ,  58.25,  58.5 ,  58.75,  59.  ,  59.25,  59.5 ,  59.75,\n",
       "         60.  ,  60.25,  60.5 ,  60.75,  61.  ,  61.25,  61.5 ,  61.75,\n",
       "         62.  ,  62.25,  62.5 ,  62.75,  63.  ,  63.25,  63.5 ,  63.75,\n",
       "         64.  ,  64.25,  64.5 ,  64.75,  65.  ,  65.25,  65.5 ,  65.75,\n",
       "         66.  ,  66.25,  66.5 ,  66.75,  67.  ,  67.25,  67.5 ,  67.75,\n",
       "         68.  ,  68.25,  68.5 ,  68.75,  69.  ,  69.25,  69.5 ,  69.75,\n",
       "         70.  ,  70.25,  70.5 ,  70.75,  71.  ,  71.25,  71.5 ,  71.75,\n",
       "         72.  ,  72.25,  72.5 ,  72.75,  73.  ,  73.25,  73.5 ,  73.75,\n",
       "         74.  ,  74.25,  74.5 ,  74.75,  75.  ,  75.25,  75.5 ,  75.75,\n",
       "         76.  ,  76.25,  76.5 ,  76.75,  77.  ,  77.25,  77.5 ,  77.75,\n",
       "         78.  ,  78.25,  78.5 ,  78.75,  79.  ,  79.25,  79.5 ,  79.75,\n",
       "         80.  ,  80.25,  80.5 ,  80.75,  81.  ,  81.25,  81.5 ,  81.75,\n",
       "         82.  ,  82.25,  82.5 ,  82.75,  83.  ,  83.25,  83.5 ,  83.75,\n",
       "         84.  ,  84.25,  84.5 ,  84.75,  85.  ,  85.25,  85.5 ,  85.75,\n",
       "         86.  ,  86.25,  86.5 ,  86.75,  87.  ,  87.25,  87.5 ,  87.75,\n",
       "         88.  ,  88.25,  88.5 ,  88.75,  89.  ,  89.25,  89.5 ,  89.75,\n",
       "         90.  ,  90.25,  90.5 ,  90.75,  91.  ,  91.25,  91.5 ,  91.75,\n",
       "         92.  ,  92.25,  92.5 ,  92.75,  93.  ,  93.25,  93.5 ,  93.75,\n",
       "         94.  ,  94.25,  94.5 ,  94.75,  95.  ,  95.25,  95.5 ,  95.75,\n",
       "         96.  ,  96.25,  96.5 ,  96.75,  97.  ,  97.25,  97.5 ,  97.75,\n",
       "         98.  ,  98.25,  98.5 ,  98.75,  99.  ,  99.25,  99.5 ,  99.75,\n",
       "        100.  , 100.25, 100.5 , 100.75, 101.  , 101.25, 101.5 , 101.75,\n",
       "        102.  , 102.25, 102.5 , 102.75, 103.  , 103.25, 103.5 , 103.75,\n",
       "        104.  , 104.25, 104.5 , 104.75, 105.  , 105.25, 105.5 , 105.75,\n",
       "        106.  , 106.25, 106.5 , 106.75, 107.  , 107.25, 107.5 , 107.75,\n",
       "        108.  , 108.25, 108.5 , 108.75, 109.  , 109.25, 109.5 , 109.75,\n",
       "        110.  , 110.25, 110.5 , 110.75, 111.  , 111.25, 111.5 , 111.75,\n",
       "        112.  , 112.25, 112.5 , 112.75, 113.  , 113.25, 113.5 , 113.75,\n",
       "        114.  , 114.25, 114.5 , 114.75, 115.  , 115.25, 115.5 , 115.75,\n",
       "        116.  , 116.25, 116.5 , 116.75, 117.  , 117.25, 117.5 , 117.75,\n",
       "        118.  , 118.25, 118.5 , 118.75, 119.  , 119.25, 119.5 , 119.75,\n",
       "        120.  , 120.25, 120.5 , 120.75, 121.  , 121.25, 121.5 , 121.75,\n",
       "        122.  , 122.25, 122.5 , 122.75, 123.  , 123.25, 123.5 , 123.75,\n",
       "        124.  , 124.25, 124.5 , 124.75, 125.  , 125.25, 125.5 , 125.75,\n",
       "        126.  , 126.25, 126.5 , 126.75, 127.  , 127.25, 127.5 , 127.75,\n",
       "        128.  , 128.25, 128.5 , 128.75, 129.  , 129.25, 129.5 , 129.75,\n",
       "        130.  , 130.25, 130.5 , 130.75, 131.  , 131.25, 131.5 , 131.75,\n",
       "        132.  , 132.25, 132.5 , 132.75, 133.  , 133.25, 133.5 , 133.75,\n",
       "        134.  , 134.25, 134.5 , 134.75, 135.  , 135.25, 135.5 , 135.75,\n",
       "        136.  , 136.25, 136.5 , 136.75, 137.  , 137.25, 137.5 , 137.75,\n",
       "        138.  , 138.25, 138.5 , 138.75, 139.  , 139.25, 139.5 , 139.75,\n",
       "        140.  , 140.25, 140.5 , 140.75, 141.  , 141.25, 141.5 , 141.75,\n",
       "        142.  , 142.25, 142.5 , 142.75, 143.  , 143.25, 143.5 , 143.75,\n",
       "        144.  , 144.25, 144.5 , 144.75, 145.  , 145.25, 145.5 , 145.75,\n",
       "        146.  , 146.25, 146.5 , 146.75, 147.  , 147.25, 147.5 , 147.75,\n",
       "        148.  , 148.25, 148.5 , 148.75, 149.  , 149.25, 149.5 , 149.75,\n",
       "        150.  , 150.25, 150.5 , 150.75, 151.  , 151.25, 151.5 , 151.75,\n",
       "        152.  , 152.25, 152.5 , 152.75, 153.  , 153.25, 153.5 , 153.75,\n",
       "        154.  , 154.25, 154.5 , 154.75, 155.  , 155.25, 155.5 , 155.75,\n",
       "        156.  , 156.25, 156.5 , 156.75, 157.  , 157.25, 157.5 , 157.75,\n",
       "        158.  , 158.25, 158.5 , 158.75, 159.  , 159.25, 159.5 , 159.75,\n",
       "        160.  ]),\n",
       " <a list of 640 Patch objects>)"
      ]
     },
     "execution_count": 30,
     "metadata": {},
     "output_type": "execute_result"
    },
    {
     "data": {
      "image/png": "[encoded data removed]",
      "text/plain": [
       "<Figure size 720x360 with 2 Axes>"
      ]
     },
     "metadata": {
      "needs_background": "light"
     },
     "output_type": "display_data"
    }
   ],
   "source": [
    "plt.figure(figsize = [10, 5]) # larger figure size for subplots\n",
    "\n",
    "# histogram on left, example of too-large bin size\n",
    "plt.subplot(1, 2, 1) # 1 row, 2 cols, subplot 1\n",
    "bin_edges = np.arange(0, pokemon['speed'].max()+4, 4)\n",
    "plt.hist(data = pokemon, x = 'speed', bins = bin_edges)\n",
    "\n",
    "# histogram on right, example of too-small bin size\n",
    "plt.subplot(1, 2, 2) # 1 row, 2 cols, subplot 2\n",
    "bin_edges = np.arange(0, pokemon['speed'].max()+1/4, 1/4)\n",
    "plt.hist(data = pokemon, x = 'speed', bins = bin_edges)"
   ]
  },
  {
   "cell_type": "markdown",
   "metadata": {},
   "source": [
    "This example puts two plots side by side through use of the subplot function, whose arguments specify the number of rows, columns, and index of the active subplot (in that order). The figure() function is called with the \"figsize\" parameter so that we can have a larger figure to support having multiple subplots. (More details on figures and subplots are coming up next in the lesson.)"
   ]
  },
  {
   "cell_type": "code",
   "execution_count": 31,
   "metadata": {},
   "outputs": [
    {
     "data": {
      "text/plain": [
       "<matplotlib.axes._subplots.AxesSubplot at 0x1a1e3a6b90>"
      ]
     },
     "execution_count": 31,
     "metadata": {},
     "output_type": "execute_result"
    },
    {
     "data": {
      "image/png": "[encoded data removed]",
      "text/plain": [
       "<Figure size 432x288 with 1 Axes>"
      ]
     },
     "metadata": {
      "needs_background": "light"
     },
     "output_type": "display_data"
    }
   ],
   "source": [
    "##Alternative Approach\n",
    "##The seaborn function distplot can also be used to plot a histogram, and is integrated with other univariate\n",
    "##plotting functions.\n",
    "\n",
    "sb.distplot(pokemon['speed'])"
   ]
  },
  {
   "cell_type": "markdown",
   "metadata": {},
   "source": [
    "When we specify the data to be plotted, note that the first argument must be the Series or array with the points to be plotted. This is in contrast to our ability to specify a data source and column as separate arguments, like we've seen with and countplot and hist."
   ]
  },
  {
   "cell_type": "markdown",
   "metadata": {},
   "source": [
    "The distplot function has built-in rules for specifying histogram bins, and by default plots a curve depicting the kernel density estimate (KDE) on top of the data. The vertical axis is based on the KDE, rather than the histogram: you shouldn't expect the total heights of the bars to equal 1, but the area under the curve should equal 1. If you want to learn more about KDEs, check out the extra page at the end of the lesson.\n",
    "\n",
    "Despite the fact that the default bin-selection formula used by distplot might be better than the choice of ten bins that .hist uses, you'll still want to do some tweaking to align the bins to 'round' values. You can use other parameter settings to plot just the histogram and specify the bins like before:"
   ]
  },
  {
   "cell_type": "code",
   "execution_count": 33,
   "metadata": {},
   "outputs": [
    {
     "data": {
      "text/plain": [
       "<matplotlib.axes._subplots.AxesSubplot at 0x1a1f0aff10>"
      ]
     },
     "execution_count": 33,
     "metadata": {},
     "output_type": "execute_result"
    },
    {
     "data": {
      "image/png": "[encoded data removed]",
      "text/plain": [
       "<Figure size 432x288 with 1 Axes>"
      ]
     },
     "metadata": {
      "needs_background": "light"
     },
     "output_type": "display_data"
    }
   ],
   "source": [
    "bin_edges = np.arange(0, pokemon['speed'].max()+10, 10)\n",
    "sb.distplot(pokemon['speed'], bins = bin_edges, kde = False,\n",
    "            hist_kws = {'alpha' : 1})"
   ]
  },
  {
   "cell_type": "markdown",
   "metadata": {},
   "source": [
    "The alpha (transparency) setting must be associated as a dictionary to \"hist_kws\" since there are other underlying plotting functions, like the KDE, that have their own optional keyword parameters.\n",
    "\n",
    "\n",
    "The result of the code above is exactly like the histogram above with bin width of 10. The units of the vertical axis are also back in terms of counts.\n",
    "\n",
    "In summary, if your exploration is only interested in the histogram-depiction of the data, and not the additional functionality offered by distplot, then you might be better off with just using Matplotlib's hist function for simplicity. On the other hand, if you want a quick start on choosing a representative bin size for histogram plotting, you might take a quick look at the basic distplot first before getting into the customization."
   ]
  },
  {
   "cell_type": "markdown",
   "metadata": {},
   "source": [
    "This hierarchy of objects is useful to know about so that we can take more control over the layout and aesthetics of our plots. One alternative way we could have created the histogram is to explicitly set up the Figure and Axes like this:"
   ]
  },
  {
   "cell_type": "code",
   "execution_count": 35,
   "metadata": {},
   "outputs": [
    {
     "data": {
      "text/plain": [
       "(array([ 31.,  93., 163., 159., 128., 115.,  81.,  26.,   6.,   5.]),\n",
       " array([  5. ,  20.5,  36. ,  51.5,  67. ,  82.5,  98. , 113.5, 129. ,\n",
       "        144.5, 160. ]),\n",
       " <a list of 10 Patch objects>)"
      ]
     },
     "execution_count": 35,
     "metadata": {},
     "output_type": "execute_result"
    },
    {
     "data": {
      "image/png": "[encoded data removed]",
      "text/plain": [
       "<Figure size 432x288 with 1 Axes>"
      ]
     },
     "metadata": {
      "needs_background": "light"
     },
     "output_type": "display_data"
    }
   ],
   "source": [
    "fig = plt.figure()\n",
    "ax = fig.add_axes([.125, .125, .775, .755])\n",
    "ax.hist(data = pokemon, x = 'speed')"
   ]
  },
  {
   "cell_type": "markdown",
   "metadata": {},
   "source": [
    "figure() creates a new Figure object, a reference to which has been stored in the variable fig. One of the Figure methods is .add_axes(), which creates a new Axes object in the Figure. The method requires one list as argument specifying the dimensions of the Axes: the first two elements of the list indicate the position of the lower-left hand corner of the Axes (in this case one quarter of the way from the lower-left corner of the Figure) and the last two elements specifying the Axes width and height, respectively. We refer to the Axes in the variable ax. Finally, we use the Axes method .hist() just like we did before with plt.hist()."
   ]
  },
  {
   "cell_type": "markdown",
   "metadata": {},
   "source": [
    "To use Axes objects with seaborn, seaborn functions usually have an \"ax\" parameter to specify upon which Axes a plot will be drawn."
   ]
  },
  {
   "cell_type": "code",
   "execution_count": 37,
   "metadata": {},
   "outputs": [
    {
     "data": {
      "text/plain": [
       "<matplotlib.axes._axes.Axes at 0x1a1f4e8750>"
      ]
     },
     "execution_count": 37,
     "metadata": {},
     "output_type": "execute_result"
    },
    {
     "data": {
      "image/png": "[encoded data removed]",
      "text/plain": [
       "<Figure size 432x288 with 1 Axes>"
      ]
     },
     "metadata": {
      "needs_background": "light"
     },
     "output_type": "display_data"
    }
   ],
   "source": [
    "fig = plt.figure()\n",
    "ax = fig.add_axes([.125, .125, .775, .755])\n",
    "base_color = sb.color_palette()[0]\n",
    "sb.countplot(data = pokemon, x = 'generation_id', color = base_color, ax = ax)"
   ]
  },
  {
   "cell_type": "markdown",
   "metadata": {},
   "source": [
    "In the above two cases, there was no purpose to explicitly go through the Figure and Axes creation steps. And indeed, in most cases, you can just use the basic matplotlib and seaborn functions as is. Each function targets a Figure or Axes, and they'll automatically target the most recent Figure or Axes worked with. As an example of this, let's review in detail how subplot() was used on the Histograms page:"
   ]
  },
  {
   "cell_type": "code",
   "execution_count": 40,
   "metadata": {},
   "outputs": [
    {
     "data": {
      "text/plain": [
       "(array([ 0.,  0.,  0.,  0.,  0.,  0.,  0.,  0.,  0.,  0.,  0.,  0.,  0.,\n",
       "         0.,  0.,  0.,  0.,  0.,  0.,  0.,  3.,  0.,  0.,  0.,  0.,  0.,\n",
       "         0.,  0.,  0.,  0.,  0.,  0.,  0.,  0.,  0.,  0.,  0.,  0.,  0.,\n",
       "         0.,  3.,  0.,  0.,  0.,  0.,  0.,  0.,  0.,  0.,  0.,  0.,  0.,\n",
       "         1.,  0.,  0.,  0.,  0.,  0.,  0.,  0., 11.,  0.,  0.,  0.,  0.,\n",
       "         0.,  0.,  0.,  0.,  0.,  0.,  0.,  0.,  0.,  0.,  0.,  0.,  0.,\n",
       "         0.,  0., 13.,  0.,  0.,  0.,  0.,  0.,  0.,  0.,  1.,  0.,  0.,\n",
       "         0.,  4.,  0.,  0.,  0.,  1.,  0.,  0.,  0., 10.,  0.,  0.,  0.,\n",
       "         0.,  0.,  0.,  0.,  1.,  0.,  0.,  0.,  4.,  0.,  0.,  0.,  3.,\n",
       "         0.,  0.,  0., 33.,  0.,  0.,  0.,  2.,  0.,  0.,  0.,  5.,  0.,\n",
       "         0.,  0.,  2.,  0.,  0.,  0.,  1.,  0.,  0.,  0., 26.,  0.,  0.,\n",
       "         0.,  6.,  0.,  0.,  0.,  2.,  0.,  0.,  0.,  3.,  0.,  0.,  0.,\n",
       "         1.,  0.,  0.,  0., 36.,  0.,  0.,  0.,  2.,  0.,  0.,  0.,  8.,\n",
       "         0.,  0.,  0.,  8.,  0.,  0.,  0.,  3.,  0.,  0.,  0., 34.,  0.,\n",
       "         0.,  0.,  3.,  0.,  0.,  0.,  2.,  0.,  0.,  0.,  6.,  0.,  0.,\n",
       "         0.,  1.,  0.,  0.,  0., 45.,  0.,  0.,  0.,  3.,  0.,  0.,  0.,\n",
       "         5.,  0.,  0.,  0.,  0.,  0.,  0.,  0.,  0.,  0.,  0.,  0., 29.,\n",
       "         0.,  0.,  0.,  4.,  0.,  0.,  0.,  4.,  0.,  0.,  0.,  8.,  0.,\n",
       "         0.,  0.,  3.,  0.,  0.,  0., 49.,  0.,  0.,  0.,  3.,  0.,  0.,\n",
       "         0.,  2.,  0.,  0.,  0.,  3.,  0.,  0.,  0.,  5.,  0.,  0.,  0.,\n",
       "        40.,  0.,  0.,  0.,  4.,  0.,  0.,  0.,  4.,  0.,  0.,  0.,  6.,\n",
       "         0.,  0.,  0.,  1.,  0.,  0.,  0., 37.,  0.,  0.,  0.,  5.,  0.,\n",
       "         0.,  0.,  5.,  0.,  0.,  0.,  3.,  0.,  0.,  0.,  3.,  0.,  0.,\n",
       "         0., 15.,  0.,  0.,  0.,  3.,  0.,  0.,  0.,  3.,  0.,  0.,  0.,\n",
       "         3.,  0.,  0.,  0.,  3.,  0.,  0.,  0., 33.,  0.,  0.,  0.,  3.,\n",
       "         0.,  0.,  0.,  1.,  0.,  0.,  0.,  4.,  0.,  0.,  0.,  4.,  0.,\n",
       "         0.,  0., 29.,  0.,  0.,  0.,  0.,  0.,  0.,  0.,  1.,  0.,  0.,\n",
       "         0.,  1.,  0.,  0.,  0.,  1.,  0.,  0.,  0., 29.,  0.,  0.,  0.,\n",
       "         4.,  0.,  0.,  0.,  3.,  0.,  0.,  0.,  3.,  0.,  0.,  0.,  0.,\n",
       "         0.,  0.,  0., 27.,  0.,  0.,  0.,  2.,  0.,  0.,  0.,  7.,  0.,\n",
       "         0.,  0.,  3.,  0.,  0.,  0.,  3.,  0.,  0.,  0., 24.,  0.,  0.,\n",
       "         0.,  6.,  0.,  0.,  0.,  2.,  0.,  0.,  0.,  2.,  0.,  0.,  0.,\n",
       "         2.,  0.,  0.,  0., 10.,  0.,  0.,  0.,  2.,  0.,  0.,  0.,  1.,\n",
       "         0.,  0.,  0.,  6.,  0.,  0.,  0.,  3.,  0.,  0.,  0., 11.,  0.,\n",
       "         0.,  0.,  2.,  0.,  0.,  0.,  3.,  0.,  0.,  0.,  1.,  0.,  0.,\n",
       "         0.,  1.,  0.,  0.,  0.,  8.,  0.,  0.,  0.,  2.,  0.,  0.,  0.,\n",
       "         1.,  0.,  0.,  0.,  1.,  0.,  0.,  0.,  0.,  0.,  0.,  0.,  4.,\n",
       "         0.,  0.,  0.,  1.,  0.,  0.,  0.,  1.,  0.,  0.,  0.,  1.,  0.,\n",
       "         0.,  0.,  1.,  0.,  0.,  0.,  4.,  0.,  0.,  0.,  1.,  0.,  0.,\n",
       "         0.,  0.,  0.,  0.,  0.,  0.,  0.,  0.,  0.,  0.,  0.,  0.,  0.,\n",
       "         5.,  0.,  0.,  0.,  0.,  0.,  0.,  0.,  0.,  0.,  0.,  0.,  0.,\n",
       "         0.,  0.,  0.,  0.,  0.,  0.,  0.,  0.,  0.,  0.,  0.,  0.,  0.,\n",
       "         0.,  0.,  0.,  0.,  0.,  0.,  0.,  0.,  0.,  0.,  0.,  0.,  0.,\n",
       "         0.,  0.,  0.,  0.,  0.,  0.,  0.,  0.,  0.,  0.,  0.,  0.,  0.,\n",
       "         1.,  0.,  0.,  0.,  0.,  0.,  0.,  0.,  1.,  0.,  0.,  0.,  0.,\n",
       "         0.,  0.,  0.,  0.,  0.,  0.,  0.,  0.,  0.,  0.,  0.,  0.,  0.,\n",
       "         0.,  0.,  2.,  0.,  0.,  0.,  1.,  0.,  0.,  0.,  0.,  0.,  0.,\n",
       "         0.,  0.,  0.,  0.,  0.,  0.,  0.,  0.,  0.,  0.,  0.,  0.,  0.,\n",
       "         0.,  0.,  0.,  0.,  0.,  0.,  0.,  0.,  0.,  0.,  0.,  0.,  0.,\n",
       "         0.,  0.,  1.]),\n",
       " array([  0.  ,   0.25,   0.5 ,   0.75,   1.  ,   1.25,   1.5 ,   1.75,\n",
       "          2.  ,   2.25,   2.5 ,   2.75,   3.  ,   3.25,   3.5 ,   3.75,\n",
       "          4.  ,   4.25,   4.5 ,   4.75,   5.  ,   5.25,   5.5 ,   5.75,\n",
       "          6.  ,   6.25,   6.5 ,   6.75,   7.  ,   7.25,   7.5 ,   7.75,\n",
       "          8.  ,   8.25,   8.5 ,   8.75,   9.  ,   9.25,   9.5 ,   9.75,\n",
       "         10.  ,  10.25,  10.5 ,  10.75,  11.  ,  11.25,  11.5 ,  11.75,\n",
       "         12.  ,  12.25,  12.5 ,  12.75,  13.  ,  13.25,  13.5 ,  13.75,\n",
       "         14.  ,  14.25,  14.5 ,  14.75,  15.  ,  15.25,  15.5 ,  15.75,\n",
       "         16.  ,  16.25,  16.5 ,  16.75,  17.  ,  17.25,  17.5 ,  17.75,\n",
       "         18.  ,  18.25,  18.5 ,  18.75,  19.  ,  19.25,  19.5 ,  19.75,\n",
       "         20.  ,  20.25,  20.5 ,  20.75,  21.  ,  21.25,  21.5 ,  21.75,\n",
       "         22.  ,  22.25,  22.5 ,  22.75,  23.  ,  23.25,  23.5 ,  23.75,\n",
       "         24.  ,  24.25,  24.5 ,  24.75,  25.  ,  25.25,  25.5 ,  25.75,\n",
       "         26.  ,  26.25,  26.5 ,  26.75,  27.  ,  27.25,  27.5 ,  27.75,\n",
       "         28.  ,  28.25,  28.5 ,  28.75,  29.  ,  29.25,  29.5 ,  29.75,\n",
       "         30.  ,  30.25,  30.5 ,  30.75,  31.  ,  31.25,  31.5 ,  31.75,\n",
       "         32.  ,  32.25,  32.5 ,  32.75,  33.  ,  33.25,  33.5 ,  33.75,\n",
       "         34.  ,  34.25,  34.5 ,  34.75,  35.  ,  35.25,  35.5 ,  35.75,\n",
       "         36.  ,  36.25,  36.5 ,  36.75,  37.  ,  37.25,  37.5 ,  37.75,\n",
       "         38.  ,  38.25,  38.5 ,  38.75,  39.  ,  39.25,  39.5 ,  39.75,\n",
       "         40.  ,  40.25,  40.5 ,  40.75,  41.  ,  41.25,  41.5 ,  41.75,\n",
       "         42.  ,  42.25,  42.5 ,  42.75,  43.  ,  43.25,  43.5 ,  43.75,\n",
       "         44.  ,  44.25,  44.5 ,  44.75,  45.  ,  45.25,  45.5 ,  45.75,\n",
       "         46.  ,  46.25,  46.5 ,  46.75,  47.  ,  47.25,  47.5 ,  47.75,\n",
       "         48.  ,  48.25,  48.5 ,  48.75,  49.  ,  49.25,  49.5 ,  49.75,\n",
       "         50.  ,  50.25,  50.5 ,  50.75,  51.  ,  51.25,  51.5 ,  51.75,\n",
       "         52.  ,  52.25,  52.5 ,  52.75,  53.  ,  53.25,  53.5 ,  53.75,\n",
       "         54.  ,  54.25,  54.5 ,  54.75,  55.  ,  55.25,  55.5 ,  55.75,\n",
       "         56.  ,  56.25,  56.5 ,  56.75,  57.  ,  57.25,  57.5 ,  57.75,\n",
       "         58.  ,  58.25,  58.5 ,  58.75,  59.  ,  59.25,  59.5 ,  59.75,\n",
       "         60.  ,  60.25,  60.5 ,  60.75,  61.  ,  61.25,  61.5 ,  61.75,\n",
       "         62.  ,  62.25,  62.5 ,  62.75,  63.  ,  63.25,  63.5 ,  63.75,\n",
       "         64.  ,  64.25,  64.5 ,  64.75,  65.  ,  65.25,  65.5 ,  65.75,\n",
       "         66.  ,  66.25,  66.5 ,  66.75,  67.  ,  67.25,  67.5 ,  67.75,\n",
       "         68.  ,  68.25,  68.5 ,  68.75,  69.  ,  69.25,  69.5 ,  69.75,\n",
       "         70.  ,  70.25,  70.5 ,  70.75,  71.  ,  71.25,  71.5 ,  71.75,\n",
       "         72.  ,  72.25,  72.5 ,  72.75,  73.  ,  73.25,  73.5 ,  73.75,\n",
       "         74.  ,  74.25,  74.5 ,  74.75,  75.  ,  75.25,  75.5 ,  75.75,\n",
       "         76.  ,  76.25,  76.5 ,  76.75,  77.  ,  77.25,  77.5 ,  77.75,\n",
       "         78.  ,  78.25,  78.5 ,  78.75,  79.  ,  79.25,  79.5 ,  79.75,\n",
       "         80.  ,  80.25,  80.5 ,  80.75,  81.  ,  81.25,  81.5 ,  81.75,\n",
       "         82.  ,  82.25,  82.5 ,  82.75,  83.  ,  83.25,  83.5 ,  83.75,\n",
       "         84.  ,  84.25,  84.5 ,  84.75,  85.  ,  85.25,  85.5 ,  85.75,\n",
       "         86.  ,  86.25,  86.5 ,  86.75,  87.  ,  87.25,  87.5 ,  87.75,\n",
       "         88.  ,  88.25,  88.5 ,  88.75,  89.  ,  89.25,  89.5 ,  89.75,\n",
       "         90.  ,  90.25,  90.5 ,  90.75,  91.  ,  91.25,  91.5 ,  91.75,\n",
       "         92.  ,  92.25,  92.5 ,  92.75,  93.  ,  93.25,  93.5 ,  93.75,\n",
       "         94.  ,  94.25,  94.5 ,  94.75,  95.  ,  95.25,  95.5 ,  95.75,\n",
       "         96.  ,  96.25,  96.5 ,  96.75,  97.  ,  97.25,  97.5 ,  97.75,\n",
       "         98.  ,  98.25,  98.5 ,  98.75,  99.  ,  99.25,  99.5 ,  99.75,\n",
       "        100.  , 100.25, 100.5 , 100.75, 101.  , 101.25, 101.5 , 101.75,\n",
       "        102.  , 102.25, 102.5 , 102.75, 103.  , 103.25, 103.5 , 103.75,\n",
       "        104.  , 104.25, 104.5 , 104.75, 105.  , 105.25, 105.5 , 105.75,\n",
       "        106.  , 106.25, 106.5 , 106.75, 107.  , 107.25, 107.5 , 107.75,\n",
       "        108.  , 108.25, 108.5 , 108.75, 109.  , 109.25, 109.5 , 109.75,\n",
       "        110.  , 110.25, 110.5 , 110.75, 111.  , 111.25, 111.5 , 111.75,\n",
       "        112.  , 112.25, 112.5 , 112.75, 113.  , 113.25, 113.5 , 113.75,\n",
       "        114.  , 114.25, 114.5 , 114.75, 115.  , 115.25, 115.5 , 115.75,\n",
       "        116.  , 116.25, 116.5 , 116.75, 117.  , 117.25, 117.5 , 117.75,\n",
       "        118.  , 118.25, 118.5 , 118.75, 119.  , 119.25, 119.5 , 119.75,\n",
       "        120.  , 120.25, 120.5 , 120.75, 121.  , 121.25, 121.5 , 121.75,\n",
       "        122.  , 122.25, 122.5 , 122.75, 123.  , 123.25, 123.5 , 123.75,\n",
       "        124.  , 124.25, 124.5 , 124.75, 125.  , 125.25, 125.5 , 125.75,\n",
       "        126.  , 126.25, 126.5 , 126.75, 127.  , 127.25, 127.5 , 127.75,\n",
       "        128.  , 128.25, 128.5 , 128.75, 129.  , 129.25, 129.5 , 129.75,\n",
       "        130.  , 130.25, 130.5 , 130.75, 131.  , 131.25, 131.5 , 131.75,\n",
       "        132.  , 132.25, 132.5 , 132.75, 133.  , 133.25, 133.5 , 133.75,\n",
       "        134.  , 134.25, 134.5 , 134.75, 135.  , 135.25, 135.5 , 135.75,\n",
       "        136.  , 136.25, 136.5 , 136.75, 137.  , 137.25, 137.5 , 137.75,\n",
       "        138.  , 138.25, 138.5 , 138.75, 139.  , 139.25, 139.5 , 139.75,\n",
       "        140.  , 140.25, 140.5 , 140.75, 141.  , 141.25, 141.5 , 141.75,\n",
       "        142.  , 142.25, 142.5 , 142.75, 143.  , 143.25, 143.5 , 143.75,\n",
       "        144.  , 144.25, 144.5 , 144.75, 145.  , 145.25, 145.5 , 145.75,\n",
       "        146.  , 146.25, 146.5 , 146.75, 147.  , 147.25, 147.5 , 147.75,\n",
       "        148.  , 148.25, 148.5 , 148.75, 149.  , 149.25, 149.5 , 149.75,\n",
       "        150.  , 150.25, 150.5 , 150.75, 151.  , 151.25, 151.5 , 151.75,\n",
       "        152.  , 152.25, 152.5 , 152.75, 153.  , 153.25, 153.5 , 153.75,\n",
       "        154.  , 154.25, 154.5 , 154.75, 155.  , 155.25, 155.5 , 155.75,\n",
       "        156.  , 156.25, 156.5 , 156.75, 157.  , 157.25, 157.5 , 157.75,\n",
       "        158.  , 158.25, 158.5 , 158.75, 159.  , 159.25, 159.5 , 159.75,\n",
       "        160.  ]),\n",
       " <a list of 640 Patch objects>)"
      ]
     },
     "execution_count": 40,
     "metadata": {},
     "output_type": "execute_result"
    },
    {
     "data": {
      "image/png": "[encoded data removed]",
      "text/plain": [
       "<Figure size 720x360 with 1 Axes>"
      ]
     },
     "metadata": {
      "needs_background": "light"
     },
     "output_type": "display_data"
    }
   ],
   "source": [
    "plt.figure(figsize = [10, 5]) # larger figure size for subplots\n",
    "\n",
    "# example of somewhat too-large bin size\n",
    "plt.subplot(1, 2, 1) # 1 row, 2 cols, subplot 1\n",
    "bin_edges = np.arange(0, pokemon['speed'].max()+4, 4)\n",
    "plt.hist(data = pokemon, x = 'speed', bins = bin_edges)\n",
    "\n",
    "# example of somewhat too-small bin size\n",
    "##plt.subplot(1, 2, 2) # 1 row, 2 cols, subplot 2\n",
    "bin_edges = np.arange(0, pokemon['speed'].max()+1/4, 1/4)\n",
    "plt.hist(data = pokemon, x = 'speed', bins = bin_edges)"
   ]
  },
  {
   "cell_type": "markdown",
   "metadata": {},
   "source": [
    "If you want to plot a discrete quantitative variable, it is possible to select either a histogram or a bar chart to depict the data.\n",
    "\n",
    "The histogram is the most immediate choice since the data is numeric, but there's one particular consideration to make regarding the bin edges. Since data points fall on set values, it can help to reduce ambiguity by putting bin edges between the actual values taken by the data. Your readers may not know that values on bin edges end up in the bin to their right, so this can help remove potential confusion when they interpret the plot. Compare the two visualizations of 100 random die rolls below (in die_rolls), with bin edges _on_ the values in the left subplot, and bin edges in between values in the right subplot."
   ]
  },
  {
   "cell_type": "code",
   "execution_count": 45,
   "metadata": {},
   "outputs": [
    {
     "ename": "NameError",
     "evalue": "name 'die_rolls' is not defined",
     "output_type": "error",
     "traceback": [
      "\u001b[0;31m---------------------------------------------------------------------------\u001b[0m",
      "\u001b[0;31mNameError\u001b[0m                                 Traceback (most recent call last)",
      "\u001b[0;32m<ipython-input-45-a09ae4961fd8>\u001b[0m in \u001b[0;36m<module>\u001b[0;34m\u001b[0m\n\u001b[1;32m      4\u001b[0m \u001b[0mplt\u001b[0m\u001b[0;34m.\u001b[0m\u001b[0msubplot\u001b[0m\u001b[0;34m(\u001b[0m\u001b[0;36m1\u001b[0m\u001b[0;34m,\u001b[0m \u001b[0;36m2\u001b[0m\u001b[0;34m,\u001b[0m \u001b[0;36m1\u001b[0m\u001b[0;34m)\u001b[0m\u001b[0;34m\u001b[0m\u001b[0;34m\u001b[0m\u001b[0m\n\u001b[1;32m      5\u001b[0m \u001b[0mbin_edges\u001b[0m \u001b[0;34m=\u001b[0m \u001b[0mnp\u001b[0m\u001b[0;34m.\u001b[0m\u001b[0marange\u001b[0m\u001b[0;34m(\u001b[0m\u001b[0;36m2\u001b[0m\u001b[0;34m,\u001b[0m \u001b[0;36m12\u001b[0m\u001b[0;34m+\u001b[0m\u001b[0;36m1.1\u001b[0m\u001b[0;34m,\u001b[0m \u001b[0;36m1\u001b[0m\u001b[0;34m)\u001b[0m \u001b[0;31m# note `+1.1`, see below\u001b[0m\u001b[0;34m\u001b[0m\u001b[0;34m\u001b[0m\u001b[0m\n\u001b[0;32m----> 6\u001b[0;31m \u001b[0mplt\u001b[0m\u001b[0;34m.\u001b[0m\u001b[0mhist\u001b[0m\u001b[0;34m(\u001b[0m\u001b[0mdie_rolls\u001b[0m\u001b[0;34m,\u001b[0m \u001b[0mbins\u001b[0m \u001b[0;34m=\u001b[0m \u001b[0mbin_edges\u001b[0m\u001b[0;34m)\u001b[0m\u001b[0;34m\u001b[0m\u001b[0;34m\u001b[0m\u001b[0m\n\u001b[0m\u001b[1;32m      7\u001b[0m \u001b[0mplt\u001b[0m\u001b[0;34m.\u001b[0m\u001b[0mxticks\u001b[0m\u001b[0;34m(\u001b[0m\u001b[0mnp\u001b[0m\u001b[0;34m.\u001b[0m\u001b[0marange\u001b[0m\u001b[0;34m(\u001b[0m\u001b[0;36m2\u001b[0m\u001b[0;34m,\u001b[0m \u001b[0;36m12\u001b[0m\u001b[0;34m+\u001b[0m\u001b[0;36m1\u001b[0m\u001b[0;34m,\u001b[0m \u001b[0;36m1\u001b[0m\u001b[0;34m)\u001b[0m\u001b[0;34m)\u001b[0m\u001b[0;34m\u001b[0m\u001b[0;34m\u001b[0m\u001b[0m\n\u001b[1;32m      8\u001b[0m \u001b[0;34m\u001b[0m\u001b[0m\n",
      "\u001b[0;31mNameError\u001b[0m: name 'die_rolls' is not defined"
     ]
    },
    {
     "data": {
      "image/png": "[encoded data removed]",
      "text/plain": [
       "<Figure size 720x360 with 1 Axes>"
      ]
     },
     "metadata": {
      "needs_background": "light"
     },
     "output_type": "display_data"
    }
   ],
   "source": [
    "plt.figure(figsize = [10, 5])\n",
    "\n",
    "# histogram on the left, bin edges on integers\n",
    "plt.subplot(1, 2, 1)\n",
    "bin_edges = np.arange(2, 12+1.1, 1) # note `+1.1`, see below\n",
    "plt.hist(die_rolls, bins = bin_edges)\n",
    "plt.xticks(np.arange(2, 12+1, 1))\n",
    "\n",
    "# histogram on the right, bin edges between integers\n",
    "plt.subplot(1, 2, 2)\n",
    "bin_edges = np.arange(1.5, 12.5+1, 1)\n",
    "plt.hist(die_rolls, bins = bin_edges)\n",
    "plt.xticks(np.arange(2, 12+1, 1))"
   ]
  },
  {
   "cell_type": "markdown",
   "metadata": {},
   "source": [
    "You'll notice for the left histogram, in a deviation from the examples that have come before, I've added 1.1 to the max value (12) for setting the bin edges, rather than just the desired bin width of 1. Recall that data that is equal to the rightmost bin edge gets lumped in to the last bin. This presents a potential problem in perception when a lot of data points take the maximum value, and so is especially relevant when the data takes on discrete values. The 1.1 adds an additional bin to the end to store the die rolls of value 12 alone, to avoid having the last bar catch both 11 and 12.\n",
    "\n",
    "Alternatively to the histogram, consider if a bar chart with non-connected bins might serve your purposes better. The plot below takes the code from before, but adds the \"rwidth\" parameter to set the proportion of the bin widths that will be filled by each histogram bar."
   ]
  },
  {
   "cell_type": "code",
   "execution_count": 46,
   "metadata": {},
   "outputs": [
    {
     "ename": "NameError",
     "evalue": "name 'die_rolls' is not defined",
     "output_type": "error",
     "traceback": [
      "\u001b[0;31m---------------------------------------------------------------------------\u001b[0m",
      "\u001b[0;31mNameError\u001b[0m                                 Traceback (most recent call last)",
      "\u001b[0;32m<ipython-input-46-7f30662cc63f>\u001b[0m in \u001b[0;36m<module>\u001b[0;34m\u001b[0m\n\u001b[1;32m      1\u001b[0m \u001b[0mbin_edges\u001b[0m \u001b[0;34m=\u001b[0m \u001b[0mnp\u001b[0m\u001b[0;34m.\u001b[0m\u001b[0marange\u001b[0m\u001b[0;34m(\u001b[0m\u001b[0;36m1.5\u001b[0m\u001b[0;34m,\u001b[0m \u001b[0;36m12.5\u001b[0m\u001b[0;34m+\u001b[0m\u001b[0;36m1\u001b[0m\u001b[0;34m,\u001b[0m \u001b[0;36m1\u001b[0m\u001b[0;34m)\u001b[0m\u001b[0;34m\u001b[0m\u001b[0;34m\u001b[0m\u001b[0m\n\u001b[0;32m----> 2\u001b[0;31m \u001b[0mplt\u001b[0m\u001b[0;34m.\u001b[0m\u001b[0mhist\u001b[0m\u001b[0;34m(\u001b[0m\u001b[0mdie_rolls\u001b[0m\u001b[0;34m,\u001b[0m \u001b[0mbins\u001b[0m \u001b[0;34m=\u001b[0m \u001b[0mbin_edges\u001b[0m\u001b[0;34m,\u001b[0m \u001b[0mrwidth\u001b[0m \u001b[0;34m=\u001b[0m \u001b[0;36m0.7\u001b[0m\u001b[0;34m)\u001b[0m\u001b[0;34m\u001b[0m\u001b[0;34m\u001b[0m\u001b[0m\n\u001b[0m\u001b[1;32m      3\u001b[0m \u001b[0mplt\u001b[0m\u001b[0;34m.\u001b[0m\u001b[0mxticks\u001b[0m\u001b[0;34m(\u001b[0m\u001b[0mnp\u001b[0m\u001b[0;34m.\u001b[0m\u001b[0marange\u001b[0m\u001b[0;34m(\u001b[0m\u001b[0;36m2\u001b[0m\u001b[0;34m,\u001b[0m \u001b[0;36m12\u001b[0m\u001b[0;34m+\u001b[0m\u001b[0;36m1\u001b[0m\u001b[0;34m,\u001b[0m \u001b[0;36m1\u001b[0m\u001b[0;34m)\u001b[0m\u001b[0;34m)\u001b[0m\u001b[0;34m\u001b[0m\u001b[0;34m\u001b[0m\u001b[0m\n",
      "\u001b[0;31mNameError\u001b[0m: name 'die_rolls' is not defined"
     ]
    }
   ],
   "source": [
    "bin_edges = np.arange(1.5, 12.5+1, 1)\n",
    "plt.hist(die_rolls, bins = bin_edges, rwidth = 0.7)\n",
    "plt.xticks(np.arange(2, 12+1, 1))"
   ]
  },
  {
   "cell_type": "markdown",
   "metadata": {},
   "source": [
    "With \"rwidth\" set to 0.7, the bars will take up 70% of the space allocated by each bin, with 30% of the space left empty. This changes the default display of the histogram (which you could think of as \"rwidth = 1\") into a bar chart."
   ]
  },
  {
   "cell_type": "markdown",
   "metadata": {},
   "source": [
    "By adding gaps between bars, you emphasize the fact that the data is discrete in value. On the other hand, plotting your quantitative data in this manner might cause it to be interpreted as ordinal-type data, which can have an effect on overall perception.\n",
    "\n",
    "For continuous numeric data, you should not make use of the \"rwidth\" parameter, since the gaps imply discreteness of value. As another caution, it might be tempting to use seaborn's countplot function to plot the distribution of a discrete numeric variable as bars. Be careful about doing this, since each unique numeric value will get a bar, regardless of the spacing in values between bars. (For example, if the unique values were {1, 2, 4, 5}, missing 3, countplot would only plot four bars, with the bars for 2 and 4 right next to one another.) Also, even if your data is technically discrete numeric, you should probably not consider either of the variants depicted on this page unless the number of unique values is small enough to allow for the half-unit shift or discrete bars to be interpretable. If you have a large number of unique values over a large enough range, it's better to stick with the standard histogram than risk interpretability issues.\n",
    "\n",
    "While you might justify plotting discrete numeric data using a bar chart, you’ll be less apt to justify the opposite: plotting ordinal data as a histogram. The space between bars in a bar chart helps to remind the reader that values are not contiguous in an ‘interval’-type fashion: only that there is an order in levels. With that space removed as in a histogram, it's harder to remember this important bit of interpretation."
   ]
  },
  {
   "cell_type": "code",
   "execution_count": null,
   "metadata": {},
   "outputs": [],
   "source": []
  }
 ],
 "metadata": {
  "kernelspec": {
   "display_name": "Python 3",
   "language": "python",
   "name": "python3"
  },
  "language_info": {
   "codemirror_mode": {
    "name": "ipython",
    "version": 3
   },
   "file_extension": ".py",
   "mimetype": "text/x-python",
   "name": "python",
   "nbconvert_exporter": "python",
   "pygments_lexer": "ipython3",
   "version": "3.7.6"
  }
 },
 "nbformat": 4,
 "nbformat_minor": 4
}
